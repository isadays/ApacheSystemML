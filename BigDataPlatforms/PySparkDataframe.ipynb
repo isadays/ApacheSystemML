{
  "nbformat": 4,
  "nbformat_minor": 0,
  "metadata": {
    "colab": {
      "provenance": []
    },
    "kernelspec": {
      "name": "python3",
      "display_name": "Python 3"
    },
    "language_info": {
      "name": "python"
    }
  },
  "cells": [
    {
      "cell_type": "code",
      "execution_count": null,
      "metadata": {
        "colab": {
          "base_uri": "https://localhost:8080/"
        },
        "id": "11WW8rHGw47Z",
        "outputId": "3302899e-49ff-4f5b-a40c-aa5072214bbd"
      },
      "outputs": [
        {
          "output_type": "stream",
          "name": "stdout",
          "text": [
            "Collecting pyspark\n",
            "  Downloading pyspark-3.5.1.tar.gz (317.0 MB)\n",
            "\u001b[2K     \u001b[90m━━━━━━━━━━━━━━━━━━━━━━━━━━━━━━━━━━━━━━━━\u001b[0m \u001b[32m317.0/317.0 MB\u001b[0m \u001b[31m3.2 MB/s\u001b[0m eta \u001b[36m0:00:00\u001b[0m\n",
            "\u001b[?25h  Preparing metadata (setup.py) ... \u001b[?25l\u001b[?25hdone\n",
            "Requirement already satisfied: py4j==0.10.9.7 in /usr/local/lib/python3.10/dist-packages (from pyspark) (0.10.9.7)\n",
            "Building wheels for collected packages: pyspark\n",
            "  Building wheel for pyspark (setup.py) ... \u001b[?25l\u001b[?25hdone\n",
            "  Created wheel for pyspark: filename=pyspark-3.5.1-py2.py3-none-any.whl size=317488491 sha256=6e92644df2897a8b54602d86886129191a7e65c6c51399ef6ba8a3cc79e37981\n",
            "  Stored in directory: /root/.cache/pip/wheels/80/1d/60/2c256ed38dddce2fdd93be545214a63e02fbd8d74fb0b7f3a6\n",
            "Successfully built pyspark\n",
            "Installing collected packages: pyspark\n",
            "Successfully installed pyspark-3.5.1\n"
          ]
        }
      ],
      "source": [
        "!pip install pyspark"
      ]
    },
    {
      "cell_type": "code",
      "source": [
        "from pyspark.sql import SparkSession\n",
        "spark = (SparkSession \\\n",
        "         .builder \\\n",
        "         .appName(\"PySpark Example\") \\\n",
        "         .config(\"spark.some.config.option\", \"some-value\")\\\n",
        "         .getOrCreate())"
      ],
      "metadata": {
        "id": "qUmNcbzgxF4p"
      },
      "execution_count": null,
      "outputs": []
    },
    {
      "cell_type": "code",
      "source": [
        "spark"
      ],
      "metadata": {
        "colab": {
          "base_uri": "https://localhost:8080/",
          "height": 219
        },
        "id": "tTgoTstNx9cx",
        "outputId": "5e73b1e6-f79b-4358-8939-e307758c3d90"
      },
      "execution_count": null,
      "outputs": [
        {
          "output_type": "execute_result",
          "data": {
            "text/plain": [
              "<pyspark.sql.session.SparkSession at 0x7b4e85c0e5c0>"
            ],
            "text/html": [
              "\n",
              "            <div>\n",
              "                <p><b>SparkSession - in-memory</b></p>\n",
              "                \n",
              "        <div>\n",
              "            <p><b>SparkContext</b></p>\n",
              "\n",
              "            <p><a href=\"http://ff2d4f559011:4040\">Spark UI</a></p>\n",
              "\n",
              "            <dl>\n",
              "              <dt>Version</dt>\n",
              "                <dd><code>v3.5.1</code></dd>\n",
              "              <dt>Master</dt>\n",
              "                <dd><code>local[*]</code></dd>\n",
              "              <dt>AppName</dt>\n",
              "                <dd><code>PySpark Example</code></dd>\n",
              "            </dl>\n",
              "        </div>\n",
              "        \n",
              "            </div>\n",
              "        "
            ]
          },
          "metadata": {},
          "execution_count": 7
        }
      ]
    },
    {
      "cell_type": "code",
      "source": [
        "accounts = spark.read.option('header', 'true').csv('/content/accounts.csv')"
      ],
      "metadata": {
        "id": "ztS-bCi2yBl2"
      },
      "execution_count": 14,
      "outputs": []
    },
    {
      "cell_type": "code",
      "source": [
        "accounts.printSchema()"
      ],
      "metadata": {
        "colab": {
          "base_uri": "https://localhost:8080/"
        },
        "id": "axm--omP0aKW",
        "outputId": "e0dfbd0c-dd05-4d04-b8b3-05350314f486"
      },
      "execution_count": 15,
      "outputs": [
        {
          "output_type": "stream",
          "name": "stdout",
          "text": [
            "root\n",
            " |-- account_number: string (nullable = true)\n",
            " |-- aba: string (nullable = true)\n",
            " |-- bic: string (nullable = true)\n",
            " |-- opened: string (nullable = true)\n",
            " |-- balance: string (nullable = true)\n",
            "\n"
          ]
        }
      ]
    },
    {
      "cell_type": "code",
      "source": [
        "transactions = spark.read.option('header', True).parquet('./transactions.parquet')"
      ],
      "metadata": {
        "id": "hAua7Dbq0c7-"
      },
      "execution_count": 20,
      "outputs": []
    },
    {
      "cell_type": "code",
      "source": [
        "transactions.count()"
      ],
      "metadata": {
        "colab": {
          "base_uri": "https://localhost:8080/"
        },
        "id": "IpBZ_gsQ0yI5",
        "outputId": "445f198b-3320-4f72-ed4e-97e0ed6acbbb"
      },
      "execution_count": 21,
      "outputs": [
        {
          "output_type": "execute_result",
          "data": {
            "text/plain": [
              "1000000"
            ]
          },
          "metadata": {},
          "execution_count": 21
        }
      ]
    },
    {
      "cell_type": "code",
      "source": [
        "#New dataframe\n",
        "account_transactions = transactions.groupby('account_number').sum()"
      ],
      "metadata": {
        "id": "EQYKifKl01TA"
      },
      "execution_count": 22,
      "outputs": []
    },
    {
      "cell_type": "code",
      "source": [
        "with_sum = accounts.join(account_transactions, 'account_number', 'inner')"
      ],
      "metadata": {
        "id": "4R30aDWh08Ij"
      },
      "execution_count": 23,
      "outputs": []
    },
    {
      "cell_type": "code",
      "source": [
        "accounts = with_sum.withColumn('new_balance', sum([with_sum.balance, with_sum['sum(amount)']]))"
      ],
      "metadata": {
        "id": "FdN0YH1I09JZ"
      },
      "execution_count": 24,
      "outputs": []
    },
    {
      "cell_type": "code",
      "source": [
        "neg_balance = accounts.filter(accounts.new_balance < 0)"
      ],
      "metadata": {
        "id": "W-1p1qSC1B2u"
      },
      "execution_count": 25,
      "outputs": []
    },
    {
      "cell_type": "code",
      "source": [
        "clients = spark.read.json('./clients.json')"
      ],
      "metadata": {
        "id": "Xqja3rYj1Dlr"
      },
      "execution_count": 27,
      "outputs": []
    },
    {
      "cell_type": "code",
      "source": [
        "clients = clients.join(neg_balance, 'account_number', 'inner')"
      ],
      "metadata": {
        "id": "4h0nn-vR1HAc"
      },
      "execution_count": 28,
      "outputs": []
    },
    {
      "cell_type": "code",
      "source": [
        "clients.select(['first_name', 'last_name', 'account_number', 'new_balance']).show(5)"
      ],
      "metadata": {
        "colab": {
          "base_uri": "https://localhost:8080/"
        },
        "id": "Nv2IZN2Q1JZm",
        "outputId": "92d839cb-4776-432a-8f1a-2f40471c19fe"
      },
      "execution_count": 29,
      "outputs": [
        {
          "output_type": "stream",
          "name": "stdout",
          "text": [
            "+----------+---------+------------------+-----------+\n",
            "|first_name|last_name|    account_number|new_balance|\n",
            "+----------+---------+------------------+-----------+\n",
            "|    Meagan| Sandoval|JMTP45763117901514|   -27573.0|\n",
            "|  Michelle|   Knight|RBUE05237750254383|  -103459.0|\n",
            "|      Paul|   Massey|RJMY57096756148587|   -58329.0|\n",
            "|  Michelle|    Perez|ZYMB62177146259441|   -55431.0|\n",
            "|     David|    Green|LRTH65732611614073|  -103831.0|\n",
            "+----------+---------+------------------+-----------+\n",
            "only showing top 5 rows\n",
            "\n"
          ]
        }
      ]
    }
  ]
}