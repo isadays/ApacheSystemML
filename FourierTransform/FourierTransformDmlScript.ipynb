{
  "nbformat": 4,
  "nbformat_minor": 0,
  "metadata": {
    "colab": {
      "provenance": []
    },
    "kernelspec": {
      "name": "python3",
      "display_name": "Python 3"
    },
    "language_info": {
      "name": "python"
    }
  },
  "cells": [
    {
      "cell_type": "code",
      "source": [
        "# Install Java\n",
        "!apt-get install openjdk-8-jdk-headless -qq > /dev/null\n",
        "\n",
        "# Download and install Spark\n",
        "!wget -q https://archive.apache.org/dist/spark/spark-3.0.1/spark-3.0.1-bin-hadoop2.7.tgz\n",
        "!tar xf spark-3.0.1-bin-hadoop2.7.tgz\n",
        "\n",
        "# Install findspark, a Python library that makes it easier to find Spark\n",
        "!pip install findspark\n",
        "\n",
        "# Install SystemML\n",
        "!pip install systemml\n",
        "\n",
        "# Downgrade pandas to a compatible version\n",
        "!pip install pandas==1.3.3\n"
      ],
      "metadata": {
        "id": "baY7ApqozTdV"
      },
      "execution_count": null,
      "outputs": []
    },
    {
      "cell_type": "code",
      "source": [
        "import os\n",
        "\n",
        "os.environ[\"JAVA_HOME\"] = \"/usr/lib/jvm/java-8-openjdk-amd64\"\n",
        "os.environ[\"SPARK_HOME\"] = \"/content/spark-3.0.1-bin-hadoop2.7\"\n",
        "os.environ[\"PATH\"] += f\":{os.environ['SPARK_HOME']}/bin\"\n",
        "\n"
      ],
      "metadata": {
        "id": "bkuJLTgd368h"
      },
      "execution_count": null,
      "outputs": []
    },
    {
      "cell_type": "code",
      "source": [
        "import findspark\n",
        "findspark.init()\n",
        "\n",
        "from pyspark.sql import SparkSession\n",
        "\n",
        "# Initialize Spark session\n",
        "spark = SparkSession.builder \\\n",
        "    .master(\"local[*]\") \\\n",
        "    .appName(\"DML Script Example\") \\\n",
        "    .getOrCreate()\n",
        "\n",
        "from systemml import MLContext, dml\n",
        "\n",
        "# Create an MLContext\n",
        "ml = MLContext(spark)\n",
        "\n",
        "\n"
      ],
      "metadata": {
        "id": "I489G0FR2PNB"
      },
      "execution_count": null,
      "outputs": []
    },
    {
      "cell_type": "markdown",
      "source": [
        "DFT O($n^2$)\n",
        "\n",
        "FFT O($nlogn$)"
      ],
      "metadata": {
        "id": "ZgyHG0HkXBVX"
      }
    },
    {
      "cell_type": "markdown",
      "source": [
        "Note that Fourier transforms are very important for feature extraction in data science. You can use k-means clusters or neural networks to distinguish between the signals(audio signals and so on) ."
      ],
      "metadata": {
        "id": "w1E7xTgtYt6G"
      }
    },
    {
      "cell_type": "code",
      "source": [
        "# Define the DML script\n",
        "dml_script = \"\"\"\n",
        "gen_wave = function(double freq, double amp, integer T, integer Hz, double pi_value) return (matrix[double] x) {\n",
        "    time = seq(0, T-T/Hz, T/Hz)\n",
        "    x = amp * sin(2 * pi_value * freq * time)\n",
        "}\n",
        "\n",
        "PI = 3.141592654\n",
        "x = gen_wave(2, 1, 1, 50, PI)\n",
        "N = nrow(x)\n",
        "#print(toString(x, sep=\"\\\\t\\\\t\", decimal=1))\n",
        "#print(N)\n",
        "n = seq(0,N-1, 1)\n",
        "k = seq(0, N-1, 1)\n",
        "M = (n %*% t(k))*(2*PI/N)\n",
        "Xa = cos(M) %*% x\n",
        "Xb = sin(M) %*% x\n",
        "DFT = cbind(Xa, Xb)\n",
        "#print(\"Displaying the amplitudes of Fourier transform\")\n",
        "#print(toString(DFT, sep=\"\\\\t\\\\t\", decimal=1))\n",
        "#print(\"Displaying the magnitude and phase shift of Fourier transform\")\n",
        "MAG = sqrt(DFT[,1]^2 + DFT[,2]^2)\n",
        "MAG = MAG[1:ceil(N/2),]*2/N\n",
        "#PHASE = atan2(DFT[,2], DFT[,1])\n",
        "print(toString(MAG, sep=\"\\t\\t\", decimal=1))\n",
        "\"\"\"\n",
        "\n",
        "# Execute the DML script\n",
        "ml.execute(dml(dml_script))\n",
        "\n"
      ],
      "metadata": {
        "id": "q56XMj-x2btX",
        "colab": {
          "base_uri": "https://localhost:8080/"
        },
        "outputId": "9f98ad4d-65a3-4bc4-edbb-a4b2e0a04f86"
      },
      "execution_count": 20,
      "outputs": [
        {
          "output_type": "stream",
          "name": "stdout",
          "text": [
            "0.0\n",
            "0.0\n",
            "1.0\n",
            "0.0\n",
            "0.0\n",
            "0.0\n",
            "0.0\n",
            "0.0\n",
            "0.0\n",
            "0.0\n",
            "0.0\n",
            "0.0\n",
            "0.0\n",
            "0.0\n",
            "0.0\n",
            "0.0\n",
            "0.0\n",
            "0.0\n",
            "0.0\n",
            "0.0\n",
            "0.0\n",
            "0.0\n",
            "0.0\n",
            "0.0\n",
            "0.0\n",
            "\n",
            "SystemML Statistics:\n",
            "Total execution time:\t\t0.013 sec.\n",
            "Number of executed Spark inst:\t0.\n",
            "\n",
            "\n"
          ]
        },
        {
          "output_type": "execute_result",
          "data": {
            "text/plain": [
              "MLResults"
            ]
          },
          "metadata": {},
          "execution_count": 20
        }
      ]
    }
  ]
}