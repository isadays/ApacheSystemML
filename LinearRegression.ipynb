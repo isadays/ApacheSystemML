{
  "nbformat": 4,
  "nbformat_minor": 0,
  "metadata": {
    "colab": {
      "provenance": []
    },
    "kernelspec": {
      "name": "python3",
      "display_name": "Python 3"
    },
    "language_info": {
      "name": "python"
    }
  },
  "cells": [
    {
      "cell_type": "code",
      "execution_count": null,
      "metadata": {
        "id": "GPy-CxyQ_QAe"
      },
      "outputs": [],
      "source": [
        "#names = ['Isabela', 'Juliano', 'Alberto ', 'Gabriela', 'Mi']\n",
        "#long_names =  [name for name in names if len(name)>4]\n",
        "#short_names = [x for x in names if len(x)<4]\n",
        "#contacts = {'Isabela':'0', 'Juliano':'1', 'Alberto ':'4', 'Gabriela':'45', 'Mi':'87'}\n",
        "#for name, index in contacts.items():\n",
        "#  print(name,index)\n",
        "\n",
        "#import os\n",
        "#home_items = os.listdir('/Users/alfredo')\n",
        "#home_content = {\"files\": [], \"directories\": []}\n",
        "#home_paths = [os.path.join('/Users/alfredo',item) for item in home_items]\n",
        "#for path in home_paths:\n",
        "#  if os.path.isdir(path):\n",
        "#    home_content[\"directories\"].append(path)\n",
        "#  else:\n",
        "#    home_content[\"directories\"].append(path)\n",
        "\n",
        "#items = ['file', 1,2,3,3,5]\n",
        "#items.index(\"file\")\n",
        "#with open(\"populate.sql\") as sql_file:\n",
        "#  sql_contents = sql_file.readlines()\n",
        "\n",
        "#import json\n",
        "#data = {'valid': True}\n",
        "#with open(\"simple_data.json\", \"w\") as json_file:\n",
        "#  json.dump(data,json_file)"
      ]
    },
    {
      "cell_type": "code",
      "source": [
        "#!pip install --upgrade systemml\n",
        "!pip install --upgrade https://github.com/niketanpansare/future_of_data/raw/master/systemml-1.1.0-SNAPSHOT-python.tar.gz\n",
        "!ln -s -f ~/.local/lib/python2.7/site-packages/systemml/systemml-java/*.jar ~/data/libs/"
      ],
      "metadata": {
        "id": "6Zs2gjuglqeg"
      },
      "execution_count": null,
      "outputs": []
    },
    {
      "cell_type": "code",
      "source": [
        "!pip install findspark\n",
        "!pip install pyspark\n",
        "!pip install systemml"
      ],
      "metadata": {
        "id": "rFtCDOwVD_Dz"
      },
      "execution_count": null,
      "outputs": []
    },
    {
      "cell_type": "code",
      "source": [
        "%matplotlib inline\n"
      ],
      "metadata": {
        "id": "GpeFZwA4QMvO"
      },
      "execution_count": 3,
      "outputs": []
    },
    {
      "cell_type": "markdown",
      "source": [
        "Load diabetes dataset from scikit-learn"
      ],
      "metadata": {
        "id": "jfSFBZkfRBkz"
      }
    },
    {
      "cell_type": "code",
      "source": [
        "from sklearn import datasets\n",
        "import numpy as np\n",
        "\n",
        "\n",
        "# Load the diabetes dataset\n",
        "diabetes = datasets.load_diabetes()\n",
        "diabetes = datasets.load_diabetes()\n",
        "diabetes_X = diabetes.data[:,np.newaxis,2]\n",
        "diabetes_X_train =diabetes_X[:-20]\n",
        "diabetes_X_test = diabetes_X[-20:]\n",
        "diabetes_y_train = np.matrix(diabetes.target[:-20]).T\n",
        "diabetes_y_test = np.matrix(diabetes.target[-20:]).T"
      ],
      "metadata": {
        "id": "K8uXnzd8QwBh"
      },
      "execution_count": 4,
      "outputs": []
    },
    {
      "cell_type": "code",
      "source": [
        "import findspark\n",
        "findspark.init()\n",
        "\n",
        "from pyspark.sql import SparkSession\n",
        "spark = SparkSession.builder.master(\"local[*]\").getOrCreate()\n"
      ],
      "metadata": {
        "id": "sqjvNuU6XQqW"
      },
      "execution_count": 11,
      "outputs": []
    },
    {
      "cell_type": "code",
      "source": [
        "from systemml import MLContext, dml\n",
        "ml = MLContext(spark)\n",
        "print(ml.info())\n"
      ],
      "metadata": {
        "colab": {
          "base_uri": "https://localhost:8080/"
        },
        "id": "4Nbq4AWoWXJY",
        "outputId": "7d669230-b9f4-47f7-ce1f-56c02f33216a"
      },
      "execution_count": 12,
      "outputs": [
        {
          "output_type": "stream",
          "name": "stdout",
          "text": [
            "Archiver-Version: Plexus Archiver\n",
            "Artifact-Id: systemml\n",
            "Build-Jdk: 1.8.0_111\n",
            "Build-Time: 2018-01-11 16:39:06 CST\n",
            "Built-By: biuser\n",
            "Created-By: Apache Maven 3.0.5\n",
            "Group-Id: org.apache.systemml\n",
            "Main-Class: org.apache.sysml.api.DMLScript\n",
            "Manifest-Version: 1.0\n",
            "Minimum-Recommended-Spark-Version: 2.1.0\n",
            "Version: 1.1.0-SNAPSHOT\n",
            "\n"
          ]
        }
      ]
    },
    {
      "cell_type": "code",
      "source": [
        "script = \"\"\"\n",
        "ones = matrix(1, rows = nrow(X), cols=1)\n",
        "X = cbind(X, ones)\n",
        "A = t(X) %*% X\n",
        "b = t(X) %*% y\n",
        "w = solve(A, b)\n",
        "bias = as.scalar(w[nrow(w), 1])\n",
        "w = w[1:nrow(w)-1, ]\n",
        "\"\"\"\n",
        "prog = dml(script).input(X=diabetes_X_train, y=diabetes_y_train).output('w', 'bias')\n",
        "try:\n",
        "    #w, bias = ml.execute(prog).get('w','bias')\n",
        "    #w = result.get('w').toNumPy()\n",
        "    result = ml.execute(prog)\n",
        "    w = result.get('w').toNumPy()\n",
        "    bias = result.get('bias')\n",
        "except Exception as e:\n",
        "    print(\"Error during script execution:\", e)\n"
      ],
      "metadata": {
        "colab": {
          "base_uri": "https://localhost:8080/"
        },
        "id": "emyDZgGylTQr",
        "outputId": "d8bd567d-fd74-4273-aebc-856c3ca83c73"
      },
      "execution_count": 21,
      "outputs": [
        {
          "output_type": "stream",
          "name": "stdout",
          "text": [
            "SystemML Statistics:\n",
            "Total execution time:\t\t0.002 sec.\n",
            "Number of executed Spark inst:\t2.\n",
            "\n",
            "\n"
          ]
        }
      ]
    },
    {
      "cell_type": "code",
      "source": [],
      "metadata": {
        "id": "jbdWSiVYmunJ"
      },
      "execution_count": null,
      "outputs": []
    }
  ]
}