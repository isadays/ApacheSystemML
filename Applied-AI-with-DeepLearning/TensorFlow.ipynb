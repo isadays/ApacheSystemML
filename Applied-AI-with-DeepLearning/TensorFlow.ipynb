{
  "nbformat": 4,
  "nbformat_minor": 0,
  "metadata": {
    "colab": {
      "provenance": []
    },
    "kernelspec": {
      "name": "python3",
      "display_name": "Python 3"
    },
    "language_info": {
      "name": "python"
    }
  },
  "cells": [
    {
      "cell_type": "code",
      "execution_count": 2,
      "metadata": {
        "colab": {
          "base_uri": "https://localhost:8080/"
        },
        "id": "JulVqFMK_pq1",
        "outputId": "0d938331-265d-4b59-faab-c7655d616b7a"
      },
      "outputs": [
        {
          "output_type": "stream",
          "name": "stdout",
          "text": [
            "Colab only includes TensorFlow 2.x; %tensorflow_version has no effect.\n"
          ]
        }
      ],
      "source": [
        "from __future__ import absolute_import, division, print_function, unicode_literals\n",
        "\n",
        "# Install TensorFlow\n",
        "try:\n",
        "  # %tensorflow_version only exists in Colab.\n",
        "  %tensorflow_version 2.x\n",
        "except Exception:\n",
        "  pass\n",
        "\n",
        "import tensorflow as tf"
      ]
    },
    {
      "cell_type": "code",
      "source": [
        "from keras.utils import to_categorical\n",
        "import tensorflow as tf\n",
        "from tensorflow.keras import datasets, layers, models\n",
        "from keras.models import Sequential\n",
        "from keras.layers import Dense, Dropout\n",
        "import matplotlib.pyplot as plt\n",
        "from keras.utils import to_categorical\n",
        "\n",
        "batch_size = 128\n",
        "num_classes = 10\n",
        "epochs = 20\n",
        "\n",
        "mnist = tf.keras.datasets.mnist\n",
        "(x_train, y_train), (x_test, y_test) = mnist.load_data()\n"
      ],
      "metadata": {
        "id": "L7zBsbH6AsdR"
      },
      "execution_count": 33,
      "outputs": []
    },
    {
      "cell_type": "code",
      "source": [
        "plt.gray()\n",
        "plt.imshow(x_train[6])"
      ],
      "metadata": {
        "colab": {
          "base_uri": "https://localhost:8080/",
          "height": 447
        },
        "id": "Phi7hDSfBQpG",
        "outputId": "622f0248-fc4c-44a2-a344-424c4781ff17"
      },
      "execution_count": 34,
      "outputs": [
        {
          "output_type": "execute_result",
          "data": {
            "text/plain": [
              "<matplotlib.image.AxesImage at 0x7a8644a806a0>"
            ]
          },
          "metadata": {},
          "execution_count": 34
        },
        {
          "output_type": "display_data",
          "data": {
            "text/plain": [
              "<Figure size 640x480 with 1 Axes>"
            ],
            "image/png": "[encoded data removed]"
          },
          "metadata": {}
        }
      ]
    },
    {
      "cell_type": "code",
      "source": [
        "#Reshape\n",
        "# 28 x 28 , or we could set/ x_train = x_train.reshape(-1,28,28). x_train = x_train.reshape(-1, 28*28)\n",
        "\n",
        "x_train = x_train.reshape(60000,784)\n",
        "x_test = x_test.reshape(10000,784)\n",
        "x_train = x_train.astype('float32')\n",
        "x_test = x_test.astype('float32')"
      ],
      "metadata": {
        "id": "2OU6Jt9KSG2X"
      },
      "execution_count": 35,
      "outputs": []
    },
    {
      "cell_type": "code",
      "source": [
        "x_train, x_test = x_train / 255.0, x_test / 255.0"
      ],
      "metadata": {
        "id": "TACCVZuIR_Oj"
      },
      "execution_count": 36,
      "outputs": []
    },
    {
      "cell_type": "code",
      "source": [
        "y_train = to_categorical(y_train, num_classes)\n",
        "y_test = to_categorical(y_test, num_classes)"
      ],
      "metadata": {
        "id": "D6ZF5HuTDVlv"
      },
      "execution_count": 37,
      "outputs": []
    },
    {
      "cell_type": "code",
      "source": [
        "model = models.Sequential()\n",
        "model.add(layers.Dense(512, activation='relu', input_shape=(784,)))\n",
        "model.add(Dropout(0.2))\n",
        "model.add(layers.Dense(512, activation='relu'))\n",
        "model.add(Dropout(0.2))\n",
        "model.add(layers.Dense(num_classes, activation='softmax'))\n",
        "\n",
        "model.summary()\n",
        "\n",
        "model.compile(loss='categorical_crossentropy', optimizer='sgd',metrics=['accuracy'])\n"
      ],
      "metadata": {
        "colab": {
          "base_uri": "https://localhost:8080/"
        },
        "id": "6oZ6od7SEyqj",
        "outputId": "90f74c6f-55e7-4a84-8234-898a96e4c5df"
      },
      "execution_count": 38,
      "outputs": [
        {
          "output_type": "stream",
          "name": "stdout",
          "text": [
            "Model: \"sequential_3\"\n",
            "_________________________________________________________________\n",
            " Layer (type)                Output Shape              Param #   \n",
            "=================================================================\n",
            " dense_6 (Dense)             (None, 512)               401920    \n",
            "                                                                 \n",
            " dropout_2 (Dropout)         (None, 512)               0         \n",
            "                                                                 \n",
            " dense_7 (Dense)             (None, 512)               262656    \n",
            "                                                                 \n",
            " dropout_3 (Dropout)         (None, 512)               0         \n",
            "                                                                 \n",
            " dense_8 (Dense)             (None, 10)                5130      \n",
            "                                                                 \n",
            "=================================================================\n",
            "Total params: 669706 (2.55 MB)\n",
            "Trainable params: 669706 (2.55 MB)\n",
            "Non-trainable params: 0 (0.00 Byte)\n",
            "_________________________________________________________________\n"
          ]
        }
      ]
    },
    {
      "cell_type": "code",
      "source": [
        "model.fit(x_train, y_train, batch_size=batch_size, epochs=epochs, validation_data=(x_test, y_test))"
      ],
      "metadata": {
        "colab": {
          "base_uri": "https://localhost:8080/"
        },
        "id": "bkVLzdJBTpQm",
        "outputId": "6b0dd9db-8d0f-4dea-8484-1f7343ddaed3"
      },
      "execution_count": 39,
      "outputs": [
        {
          "output_type": "stream",
          "name": "stdout",
          "text": [
            "Epoch 1/20\n",
            "469/469 [==============================] - 11s 22ms/step - loss: 1.2132 - accuracy: 0.6865 - val_loss: 0.5408 - val_accuracy: 0.8695\n",
            "Epoch 2/20\n",
            "469/469 [==============================] - 13s 28ms/step - loss: 0.5348 - accuracy: 0.8497 - val_loss: 0.3760 - val_accuracy: 0.8984\n",
            "Epoch 3/20\n",
            "469/469 [==============================] - 12s 25ms/step - loss: 0.4253 - accuracy: 0.8774 - val_loss: 0.3241 - val_accuracy: 0.9096\n",
            "Epoch 4/20\n",
            "469/469 [==============================] - 16s 34ms/step - loss: 0.3770 - accuracy: 0.8911 - val_loss: 0.2958 - val_accuracy: 0.9166\n",
            "Epoch 5/20\n",
            "469/469 [==============================] - 16s 35ms/step - loss: 0.3428 - accuracy: 0.9009 - val_loss: 0.2740 - val_accuracy: 0.9222\n",
            "Epoch 6/20\n",
            "469/469 [==============================] - 8s 17ms/step - loss: 0.3198 - accuracy: 0.9075 - val_loss: 0.2570 - val_accuracy: 0.9262\n",
            "Epoch 7/20\n",
            "469/469 [==============================] - 10s 21ms/step - loss: 0.3024 - accuracy: 0.9125 - val_loss: 0.2431 - val_accuracy: 0.9306\n",
            "Epoch 8/20\n",
            "469/469 [==============================] - 10s 21ms/step - loss: 0.2817 - accuracy: 0.9192 - val_loss: 0.2312 - val_accuracy: 0.9332\n",
            "Epoch 9/20\n",
            "469/469 [==============================] - 8s 18ms/step - loss: 0.2677 - accuracy: 0.9224 - val_loss: 0.2202 - val_accuracy: 0.9371\n",
            "Epoch 10/20\n",
            "469/469 [==============================] - 10s 21ms/step - loss: 0.2556 - accuracy: 0.9253 - val_loss: 0.2091 - val_accuracy: 0.9394\n",
            "Epoch 11/20\n",
            "469/469 [==============================] - 10s 21ms/step - loss: 0.2444 - accuracy: 0.9301 - val_loss: 0.2013 - val_accuracy: 0.9422\n",
            "Epoch 12/20\n",
            "469/469 [==============================] - 9s 19ms/step - loss: 0.2333 - accuracy: 0.9323 - val_loss: 0.1925 - val_accuracy: 0.9430\n",
            "Epoch 13/20\n",
            "469/469 [==============================] - 10s 21ms/step - loss: 0.2221 - accuracy: 0.9358 - val_loss: 0.1853 - val_accuracy: 0.9451\n",
            "Epoch 14/20\n",
            "469/469 [==============================] - 11s 23ms/step - loss: 0.2131 - accuracy: 0.9384 - val_loss: 0.1773 - val_accuracy: 0.9481\n",
            "Epoch 15/20\n",
            "469/469 [==============================] - 9s 19ms/step - loss: 0.2056 - accuracy: 0.9407 - val_loss: 0.1710 - val_accuracy: 0.9491\n",
            "Epoch 16/20\n",
            "469/469 [==============================] - 11s 23ms/step - loss: 0.1991 - accuracy: 0.9422 - val_loss: 0.1653 - val_accuracy: 0.9513\n",
            "Epoch 17/20\n",
            "469/469 [==============================] - 10s 22ms/step - loss: 0.1918 - accuracy: 0.9446 - val_loss: 0.1594 - val_accuracy: 0.9526\n",
            "Epoch 18/20\n",
            "469/469 [==============================] - 8s 17ms/step - loss: 0.1859 - accuracy: 0.9469 - val_loss: 0.1555 - val_accuracy: 0.9535\n",
            "Epoch 19/20\n",
            "469/469 [==============================] - 10s 22ms/step - loss: 0.1798 - accuracy: 0.9483 - val_loss: 0.1496 - val_accuracy: 0.9557\n",
            "Epoch 20/20\n",
            "469/469 [==============================] - 10s 21ms/step - loss: 0.1742 - accuracy: 0.9495 - val_loss: 0.1456 - val_accuracy: 0.9566\n"
          ]
        },
        {
          "output_type": "execute_result",
          "data": {
            "text/plain": [
              "<keras.src.callbacks.History at 0x7a862d082620>"
            ]
          },
          "metadata": {},
          "execution_count": 39
        }
      ]
    },
    {
      "cell_type": "code",
      "source": [
        "score = model.evaluate(x_test, y_test,verbose=0)\n",
        "print(f\"Test accuracy: {score[1]}\")\n",
        "print(f\"Test loss: {score[0]}\")\n"
      ],
      "metadata": {
        "colab": {
          "base_uri": "https://localhost:8080/"
        },
        "id": "2CiiXhWkE5pR",
        "outputId": "7c0b664f-897e-4f34-c85b-a4da2a234519"
      },
      "execution_count": 40,
      "outputs": [
        {
          "output_type": "stream",
          "name": "stdout",
          "text": [
            "Test accuracy: 0.95660001039505\n",
            "Test loss: 0.1455812305212021\n"
          ]
        }
      ]
    }
  ]
}