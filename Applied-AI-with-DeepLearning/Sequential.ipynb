{
  "cells": [
    {
      "cell_type": "markdown",
      "metadata": {
        "id": "lgkhjOBnbiDe"
      },
      "source": [
        "# Keras exercise\n",
        "\n",
        "In this exercise you will be creating a Keras model by loading a data set, preprocessing input data, building a Sequential Keras model and compiling the model with a training configuration. Afterwards, you train your model on the training data and evaluate it on the test set. To finish this exercise, you will past the accuracy of your model to the Coursera grader.\n",
        "\n",
        "This notebook is tested in IBM Watson Studio under python 3.6\n",
        "\n",
        "## Data\n",
        "\n",
        "For this exercise we will use the Reuters newswire dataset. This dataset consists of 11,228 newswires from the Reuters news agency. Each wire is encoded as a sequence of word indexes, just as in the IMDB data we encountered in lecture 5 of this series. Moreover, each wire is categorised into one of 46 topics, which will serve as our label. This dataset is available through the Keras API.\n",
        "\n",
        "## Goal\n",
        "\n",
        "We want to create a Multi-layer perceptron (MLP) using Keras which we can train to classify news items into the specified 46 topics.\n",
        "\n",
        "## Instructions\n",
        "\n",
        "We start by installing and importing everything we need for this exercise:"
      ]
    },
    {
      "cell_type": "code",
      "execution_count": 1,
      "metadata": {
        "colab": {
          "base_uri": "https://localhost:8080/"
        },
        "id": "oCaGHpulbiDh",
        "outputId": "0ea24b02-393a-4cd7-bc46-8bd1771d14fe"
      },
      "outputs": [
        {
          "output_type": "stream",
          "name": "stdout",
          "text": [
            "\u001b[31mERROR: Could not find a version that satisfies the requirement tensorflow==2.2.0rc0 (from versions: 2.8.0rc0, 2.8.0rc1, 2.8.0, 2.8.1, 2.8.2, 2.8.3, 2.8.4, 2.9.0rc0, 2.9.0rc1, 2.9.0rc2, 2.9.0, 2.9.1, 2.9.2, 2.9.3, 2.10.0rc0, 2.10.0rc1, 2.10.0rc2, 2.10.0rc3, 2.10.0, 2.10.1, 2.11.0rc0, 2.11.0rc1, 2.11.0rc2, 2.11.0, 2.11.1, 2.12.0rc0, 2.12.0rc1, 2.12.0, 2.12.1, 2.13.0rc0, 2.13.0rc1, 2.13.0rc2, 2.13.0, 2.13.1, 2.14.0rc0, 2.14.0rc1, 2.14.0, 2.14.1, 2.15.0rc0, 2.15.0rc1, 2.15.0, 2.15.0.post1, 2.15.1, 2.16.0rc0, 2.16.1)\u001b[0m\u001b[31m\n",
            "\u001b[0m\u001b[31mERROR: No matching distribution found for tensorflow==2.2.0rc0\u001b[0m\u001b[31m\n",
            "\u001b[0m"
          ]
        }
      ],
      "source": [
        "!pip install tensorflow==2.2.0rc0"
      ]
    },
    {
      "cell_type": "code",
      "execution_count": 2,
      "metadata": {
        "colab": {
          "base_uri": "https://localhost:8080/",
          "height": 193
        },
        "id": "4K2jh-LRbiDi",
        "outputId": "d28f80e0-7fc6-4ecc-9837-9e9cf6bba343"
      },
      "outputs": [
        {
          "output_type": "stream",
          "name": "stdout",
          "text": [
            "2.15.0\n"
          ]
        },
        {
          "output_type": "error",
          "ename": "ValueError",
          "evalue": "please upgrade to TensorFlow 2.2.0-rc0, or restart your Kernel (Kernel->Restart & Clear Output)",
          "traceback": [
            "\u001b[0;31m---------------------------------------------------------------------------\u001b[0m",
            "\u001b[0;31mValueError\u001b[0m                                Traceback (most recent call last)",
            "\u001b[0;32m<ipython-input-2-87fb5718b0db>\u001b[0m in \u001b[0;36m<cell line: 2>\u001b[0;34m()\u001b[0m\n\u001b[1;32m      2\u001b[0m \u001b[0;32mif\u001b[0m \u001b[0;32mnot\u001b[0m \u001b[0mtf\u001b[0m\u001b[0;34m.\u001b[0m\u001b[0m__version__\u001b[0m \u001b[0;34m==\u001b[0m \u001b[0;34m'2.2.0-rc0'\u001b[0m\u001b[0;34m:\u001b[0m\u001b[0;34m\u001b[0m\u001b[0;34m\u001b[0m\u001b[0m\n\u001b[1;32m      3\u001b[0m     \u001b[0mprint\u001b[0m\u001b[0;34m(\u001b[0m\u001b[0mtf\u001b[0m\u001b[0;34m.\u001b[0m\u001b[0m__version__\u001b[0m\u001b[0;34m)\u001b[0m\u001b[0;34m\u001b[0m\u001b[0;34m\u001b[0m\u001b[0m\n\u001b[0;32m----> 4\u001b[0;31m     \u001b[0;32mraise\u001b[0m \u001b[0mValueError\u001b[0m\u001b[0;34m(\u001b[0m\u001b[0;34m'please upgrade to TensorFlow 2.2.0-rc0, or restart your Kernel (Kernel->Restart & Clear Output)'\u001b[0m\u001b[0;34m)\u001b[0m\u001b[0;34m\u001b[0m\u001b[0;34m\u001b[0m\u001b[0m\n\u001b[0m",
            "\u001b[0;31mValueError\u001b[0m: please upgrade to TensorFlow 2.2.0-rc0, or restart your Kernel (Kernel->Restart & Clear Output)"
          ]
        }
      ],
      "source": [
        "import tensorflow as tf\n",
        "if not tf.__version__ == '2.2.0-rc0':\n",
        "    print(tf.__version__)\n",
        "    raise ValueError('please upgrade to TensorFlow 2.2.0-rc0, or restart your Kernel (Kernel->Restart & Clear Output)')"
      ]
    },
    {
      "cell_type": "markdown",
      "metadata": {
        "id": "lvM0S5K9biDj"
      },
      "source": [
        "IMPORTANT! => Please restart the kernel by clicking on \"Kernel\"->\"Restart and Clear Outout\" and wait until all output disapears. Then your changes are beeing picked up\n",
        "\n",
        "As you can see, we use Keras' Sequential model with only two types of layers: Dense and Dropout. We also specify a random seed to make our results reproducible. Next, we load the Reuters data set:"
      ]
    },
    {
      "cell_type": "code",
      "execution_count": 3,
      "metadata": {
        "colab": {
          "base_uri": "https://localhost:8080/"
        },
        "id": "GWLqP7bXbiDk",
        "outputId": "113faf4e-d6c0-4b8c-dc3c-940650aaa288"
      },
      "outputs": [
        {
          "output_type": "stream",
          "name": "stdout",
          "text": [
            "Downloading data from https://storage.googleapis.com/tensorflow/tf-keras-datasets/reuters.npz\n",
            "2110848/2110848 [==============================] - 0s 0us/step\n"
          ]
        }
      ],
      "source": [
        "import numpy as np\n",
        "from tensorflow.keras.models import Sequential\n",
        "from tensorflow.keras.layers import Dense, Dropout\n",
        "from tensorflow.keras.utils import to_categorical\n",
        "seed = 1337\n",
        "np.random.seed(seed)\n",
        "from tensorflow.keras.datasets import reuters\n",
        "\n",
        "max_words = 1000\n",
        "(x_train, y_train), (x_test, y_test) = reuters.load_data(num_words=max_words,\n",
        "                                                         test_split=0.2,\n",
        "                                                         seed=seed)\n",
        "num_classes = np.max(y_train) + 1  # 46 topics"
      ]
    },
    {
      "cell_type": "markdown",
      "metadata": {
        "id": "V7mMFvzXbiDl"
      },
      "source": [
        "Note that we cap the maximum number of words in a news item to 1000 by specifying the *num_words* key word. Also, 20% of the data will be test data and we ensure reproducibility by setting our random seed.\n",
        "\n",
        "Our training features are still simply sequences of indexes and we need to further preprocess them, so that we can plug them into a *Dense* layer. For this we use a *Tokenizer* from Keras' text preprocessing module. This tokenizer will take an index sequence and map it to a vector of length *max_words=1000*. Each of the 1000 vector positions corresponds to one of the words in our newswire corpus. The output of the tokenizer has a 1 at the i-th position of the vector, if the word corresponding to i is in the description of the newswire, and 0 otherwise. Even if this word appears multiple times, we still just put a 1 into our vector, i.e. our tokenizer is binary. We use this tokenizer to transform both train and test features:"
      ]
    },
    {
      "cell_type": "code",
      "execution_count": 4,
      "metadata": {
        "id": "LkpqKQ31biDl"
      },
      "outputs": [],
      "source": [
        "from tensorflow.keras.preprocessing.text import Tokenizer\n",
        "\n",
        "tokenizer = Tokenizer(num_words=max_words)\n",
        "x_train = tokenizer.sequences_to_matrix(x_train, mode='binary')\n",
        "x_test = tokenizer.sequences_to_matrix(x_test, mode='binary')"
      ]
    },
    {
      "cell_type": "markdown",
      "metadata": {
        "id": "js14kvWzbiDm"
      },
      "source": [
        "## 1. Exercise part: label encoding\n",
        "\n",
        "Use to_categorical, as we did in the lectures, to transform both *y_train* and *y_test* into one-hot encoded vectors of length *num_classes*:"
      ]
    },
    {
      "cell_type": "code",
      "execution_count": 5,
      "metadata": {
        "id": "rF8KRTCbbiDn"
      },
      "outputs": [],
      "source": [
        "y_train = to_categorical(y_train,num_classes)\n",
        "y_test = to_categorical(y_test,num_classes)"
      ]
    },
    {
      "cell_type": "markdown",
      "metadata": {
        "id": "oP4owDIrbiDo"
      },
      "source": [
        "## 2. Exercise part: model definition\n",
        "\n",
        "Next, initialise a Keras *Sequential* model and add three layers to it:\n",
        "\n",
        "    Layer: Add a *Dense* layer with in input_shape=(max_words,), 512 output units and \"relu\" activation.\n",
        "    Layer: Add a *Dropout* layer with dropout rate of 50%.\n",
        "    Layer: Add a *Dense* layer with num_classes output units and \"softmax\" activation."
      ]
    },
    {
      "cell_type": "code",
      "execution_count": 6,
      "metadata": {
        "id": "faQdBREdbiDp"
      },
      "outputs": [],
      "source": [
        "model = Sequential() # Instantiate sequential model\n",
        "model.add(Dense(512,activation='relu',input_shape=(max_words,))) # Add first layer. Make sure to specify input shape\n",
        "model.add(Dropout(0.5)) # Add second layer\n",
        "model.add(Dense(num_classes,activation='softmax')) # Add third layer"
      ]
    },
    {
      "cell_type": "markdown",
      "metadata": {
        "id": "4xkXrcQobiDp"
      },
      "source": [
        "## 3. Exercise part: model compilation\n",
        "\n",
        "As the next step, we need to compile our Keras model with a training configuration. Compile your model with \"categorical_crossentropy\" as loss function, \"adam\" as optimizer and specify \"accuracy\" as evaluation metric. NOTE: In case you get an error regarding h5py, just restart the kernel and start from scratch"
      ]
    },
    {
      "cell_type": "code",
      "execution_count": 7,
      "metadata": {
        "id": "-Nmr5AG5biDq"
      },
      "outputs": [],
      "source": [
        "model.compile(loss='categorical_crossentropy',optimizer='adam',metrics=['accuracy'])"
      ]
    },
    {
      "cell_type": "markdown",
      "metadata": {
        "id": "yebskzRSbiDq"
      },
      "source": [
        "## 4. Exercise part: model training and evaluation\n",
        "\n",
        "Next, define the batch_size for training as 32 and train the model for 5 epochs on *x_train* and *y_train* by using the *fit* method of your model. Then calculate the score for your trained model by running *evaluate* on *x_test* and *y_test* with the same batch size as used in *fit*."
      ]
    },
    {
      "cell_type": "code",
      "execution_count": 8,
      "metadata": {
        "colab": {
          "base_uri": "https://localhost:8080/"
        },
        "id": "G9ajPrQBbiDr",
        "outputId": "0499ab2b-2cb4-4d7f-b8fd-c484139cf24f"
      },
      "outputs": [
        {
          "output_type": "stream",
          "name": "stdout",
          "text": [
            "Epoch 1/5\n",
            "257/257 [==============================] - 5s 12ms/step - loss: 1.4193 - accuracy: 0.6801 - val_loss: 0.9884 - val_accuracy: 0.7747\n",
            "Epoch 2/5\n",
            "257/257 [==============================] - 3s 11ms/step - loss: 0.7861 - accuracy: 0.8170 - val_loss: 0.8403 - val_accuracy: 0.8068\n",
            "Epoch 3/5\n",
            "257/257 [==============================] - 3s 12ms/step - loss: 0.5565 - accuracy: 0.8656 - val_loss: 0.8129 - val_accuracy: 0.8094\n",
            "Epoch 4/5\n",
            "257/257 [==============================] - 3s 13ms/step - loss: 0.4276 - accuracy: 0.8957 - val_loss: 0.8208 - val_accuracy: 0.8045\n",
            "Epoch 5/5\n",
            "257/257 [==============================] - 3s 12ms/step - loss: 0.3494 - accuracy: 0.9081 - val_loss: 0.8215 - val_accuracy: 0.8099\n"
          ]
        }
      ],
      "source": [
        "batch_size = 35\n",
        "model.fit(x_train,y_train,batch_size=batch_size,epochs=5,validation_data= (x_test,y_test))\n",
        "score = model.evaluate(x_test, y_test,verbose=0)"
      ]
    },
    {
      "cell_type": "markdown",
      "metadata": {
        "id": "XzpsgCzUbiDr"
      },
      "source": [
        "If you have done everything as specified, in particular set the random seed as we did above, your test accuracy should be around 80%"
      ]
    },
    {
      "cell_type": "code",
      "execution_count": 9,
      "metadata": {
        "colab": {
          "base_uri": "https://localhost:8080/"
        },
        "id": "t3WYv9XRbiDr",
        "outputId": "1b3e8cb9-078f-4372-cbe3-098463b29f1a"
      },
      "outputs": [
        {
          "output_type": "execute_result",
          "data": {
            "text/plain": [
              "0.809884250164032"
            ]
          },
          "metadata": {},
          "execution_count": 9
        }
      ],
      "source": [
        "score[1]"
      ]
    },
    {
      "cell_type": "markdown",
      "metadata": {
        "id": "6HS5JNbzbiDs"
      },
      "source": [
        "Congratulations, now it's time to submit your result to the Coursera grader by executing the following cells (Programming Assingment, Week2).\n",
        "\n",
        "We have to install a little library in order to submit to coursera\n"
      ]
    },
    {
      "cell_type": "code",
      "execution_count": 10,
      "metadata": {
        "colab": {
          "base_uri": "https://localhost:8080/"
        },
        "id": "BLPGfK-5biDs",
        "outputId": "c84325d0-3f44-411f-e0c7-6dbcc500b685"
      },
      "outputs": [
        {
          "output_type": "stream",
          "name": "stdout",
          "text": [
            "--2024-05-20 14:49:11--  https://raw.githubusercontent.com/IBM/coursera/master/rklib.py\n",
            "Resolving raw.githubusercontent.com (raw.githubusercontent.com)... 185.199.108.133, 185.199.109.133, 185.199.110.133, ...\n",
            "Connecting to raw.githubusercontent.com (raw.githubusercontent.com)|185.199.108.133|:443... connected.\n",
            "HTTP request sent, awaiting response... 200 OK\n",
            "Length: 2540 (2.5K) [text/plain]\n",
            "Saving to: ‘rklib.py’\n",
            "\n",
            "\rrklib.py              0%[                    ]       0  --.-KB/s               \rrklib.py            100%[===================>]   2.48K  --.-KB/s    in 0s      \n",
            "\n",
            "2024-05-20 14:49:11 (30.6 MB/s) - ‘rklib.py’ saved [2540/2540]\n",
            "\n"
          ]
        }
      ],
      "source": [
        "!rm -f rklib.py\n",
        "!wget https://raw.githubusercontent.com/IBM/coursera/master/rklib.py"
      ]
    },
    {
      "cell_type": "markdown",
      "metadata": {
        "id": "7wDhOOScbiDs"
      },
      "source": [
        "Please provide your email address and obtain a submission token (secret) on the grader’s submission page in coursera, then execute the cell"
      ]
    },
    {
      "cell_type": "code",
      "execution_count": 11,
      "metadata": {
        "colab": {
          "base_uri": "https://localhost:8080/"
        },
        "id": "BvIKG8rubiDt",
        "outputId": "bd4352b7-8fd8-4346-8a63-d276e634d644"
      },
      "outputs": [
        {
          "output_type": "stream",
          "name": "stdout",
          "text": [
            "Submission successful, please check on the coursera grader page for the status\n",
            "-------------------------\n",
            "{\"elements\":[{\"itemId\":\"ozVf2\",\"id\":\"tE4j0qhMEeecqgpT6QjMdA~ozVf2~NtJNKha4Ee-FeRLu36pyeQ\",\"courseId\":\"tE4j0qhMEeecqgpT6QjMdA\"}],\"paging\":{},\"linked\":{}}\n",
            "-------------------------\n"
          ]
        }
      ],
      "source": [
        "from rklib import submit\n",
        "import json\n",
        "\n",
        "key = \"XbAMqtjdEeepUgo7OOVwng\"\n",
        "part = \"HCvcp\"\n",
        "email = ###Secret\n",
        "token = #Secret\n",
        "\n",
        "submit(email, token, 'XbAMqtjdEeepUgo7OOVwng', part, [part], json.dumps(score[1]*100))"
      ]
    }
  ],
  "metadata": {
    "kernelspec": {
      "display_name": "Python 3.6",
      "language": "python",
      "name": "python3"
    },
    "language_info": {
      "codemirror_mode": {
        "name": "ipython",
        "version": 3
      },
      "file_extension": ".py",
      "mimetype": "text/x-python",
      "name": "python",
      "nbconvert_exporter": "python",
      "pygments_lexer": "ipython3",
      "version": "3.6.9"
    },
    "colab": {
      "provenance": []
    }
  },
  "nbformat": 4,
  "nbformat_minor": 0
}